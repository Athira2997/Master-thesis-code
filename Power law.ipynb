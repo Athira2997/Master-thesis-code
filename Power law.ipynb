{
 "cells": [
  {
   "cell_type": "markdown",
   "metadata": {},
   "source": [
    "# Power law in food metabolome\n"
   ]
  },
  {
   "cell_type": "markdown",
   "metadata": {},
   "source": [
    "## Part 1 : Code for fitting power law distribution between Intensity and m/z\n"
   ]
  },
  {
   "cell_type": "code",
   "execution_count": null,
   "metadata": {},
   "outputs": [],
   "source": [
    "# All the necessary python libraries\n",
    "import pandas as pd\n",
    "import seaborn as sns\n",
    "import numpy as np\n",
    "from matplotlib import pyplot as plt\n",
    "from statsmodels.formula.api import ols\n",
    "import math\n",
    "from __future__ import print_function\n",
    "\n",
    "import numpy as np\n",
    "import scipy.stats\n"
   ]
  },
  {
   "cell_type": "code",
   "execution_count": null,
   "metadata": {},
   "outputs": [],
   "source": [
    "# Reading a .xlsx file\n",
    "data= pd.read_excel(\".xlsx\")\n",
    "# Reading a .ods file\n",
    "data= pd.read_excel(\".ods\",engine=\"odf\")"
   ]
  },
  {
   "cell_type": "code",
   "execution_count": null,
   "metadata": {},
   "outputs": [],
   "source": [
    "# Choosing only the columns needed to run the algorithm\n",
    "data=data[[\"m/z\",\"I\"]]# Cocoa and Thearubigins FT-ICR dataset\n",
    "data=data[[\"Max. m/z\",\"Area\"]]# Cocoa LCMS\n",
    "data=data[[\"m/z meas.\",\"I\"]]# Wine FTICR"
   ]
  },
  {
   "cell_type": "code",
   "execution_count": null,
   "metadata": {},
   "outputs": [],
   "source": [
    "# For LCMS Cocoa\n",
    "data[\"RT [min]\"]=data[\"RT [min]\"].astype(\"float\")"
   ]
  },
  {
   "cell_type": "code",
   "execution_count": null,
   "metadata": {},
   "outputs": [],
   "source": [
    "# Filtering out the rows with Intensity 0 for wine dataset\n",
    "data=data[~(data[\"I\"]==0)]"
   ]
  },
  {
   "cell_type": "code",
   "execution_count": null,
   "metadata": {},
   "outputs": [],
   "source": [
    "data"
   ]
  },
  {
   "cell_type": "code",
   "execution_count": null,
   "metadata": {},
   "outputs": [],
   "source": [
    "fig,ax1=plt.subplots()\n",
    "sns.histplot(data[\"m/z meas.\"])\n",
    "ax1.set_ylabel(\"frequency\")\n"
   ]
  },
  {
   "cell_type": "code",
   "execution_count": null,
   "metadata": {},
   "outputs": [],
   "source": [
    "fig,ax3=plt.subplots()\n",
    "sns.histplot(data[\"RT [min]\"])\n",
    "ax3.set_ylabel(\"frequency\")"
   ]
  },
  {
   "cell_type": "code",
   "execution_count": null,
   "metadata": {},
   "outputs": [],
   "source": [
    "data.describe()"
   ]
  },
  {
   "cell_type": "code",
   "execution_count": null,
   "metadata": {},
   "outputs": [],
   "source": [
    "fig,ax2=plt.subplots()\n",
    "sns.histplot(data[\"I\"],log_scale=True)\n",
    "ax2.set_xlabel(\"Intensity\")\n",
    "ax2.set_ylabel(\"Frequency\")"
   ]
  },
  {
   "cell_type": "code",
   "execution_count": null,
   "metadata": {},
   "outputs": [],
   "source": [
    "data.shape"
   ]
  },
  {
   "cell_type": "code",
   "execution_count": null,
   "metadata": {},
   "outputs": [],
   "source": [
    "data=data.sort_values(by=\"m/z\",ascending=True)\n"
   ]
  },
  {
   "cell_type": "code",
   "execution_count": null,
   "metadata": {},
   "outputs": [],
   "source": [
    "# Plotting Intensity vs m/z\n",
    "fig,axe=plt.subplots(figsize=(7,5))\n",
    "axe.scatter(data['m/z'],data['I'],s=50,color=\"red\")\n",
    "axe.set_title(\"    Intensity as a function of m/z\")\n",
    "axe.set_xlabel(\"m/z\")\n",
    "axe.set_ylabel(\"Intensity\")\n",
    "#plt.suptitle(\"Cocoa FTICR 24h\")\n",
    "\n"
   ]
  },
  {
   "cell_type": "code",
   "execution_count": null,
   "metadata": {},
   "outputs": [],
   "source": [
    "#modifying the x and y axis into a logarithmic scale\n",
    "log_mz=np.log(data[\"m/z\"])\n",
    "log_intensity=np.log(data[\"I\"])\n",
    "fig,a=plt.subplots(figsize=(7,5))\n",
    "a.scatter(log_mz,log_intensity,s=50,color=\"red\")\n",
    "a.set_title(\"$log(Intensity)=f(log(m/z))$\")\n",
    "a.set_xlabel(\" log_m/z\")\n",
    "a.set_ylabel(\"log_Intensity\")\n"
   ]
  },
  {
   "cell_type": "markdown",
   "metadata": {},
   "source": [
    "### $$y=a * x^b $$\n",
    "$$frequency = a * Intensity ^b$$\n",
    "$$log(frequency) =log( a * Intensity ^b)$$\n",
    "$$log(frequency) = log(a) + log(Intensity)^b$$\n",
    "$$log(frequency) = log(a) + b* log(Intensity)$$\n",
    "                                     \n",
    "                                      \n",
    "                                            "
   ]
  },
  {
   "cell_type": "code",
   "execution_count": null,
   "metadata": {},
   "outputs": [],
   "source": [
    "# Getting the log of the data to fit a staright line\n",
    "data_log = np.log(data[[\"I\",\"m/z\"]])\n",
    "data_log.rename(columns={\"m/z\":\"coefficient\"},inplace=True)"
   ]
  },
  {
   "cell_type": "code",
   "execution_count": null,
   "metadata": {},
   "outputs": [],
   "source": [
    "# Fitting the OLS model and getting the parameters\n",
    "model = ols('I ~ coefficient',data=data_log).fit()\n",
    "model.summary()\n"
   ]
  },
  {
   "cell_type": "code",
   "execution_count": null,
   "metadata": {},
   "outputs": [],
   "source": [
    "# Rsquared vale\n",
    "rsquared=model.rsquared\n"
   ]
  },
  {
   "cell_type": "code",
   "execution_count": null,
   "metadata": {},
   "outputs": [],
   "source": [
    "# putting the parameters slope and intercept into a dictionary\n",
    "params=dict(model.params)\n"
   ]
  },
  {
   "cell_type": "code",
   "execution_count": null,
   "metadata": {},
   "outputs": [],
   "source": [
    "\n",
    "\n",
    "params"
   ]
  },
  {
   "cell_type": "markdown",
   "metadata": {},
   "source": [
    "$$log(Intensity) = 16.0896 + 0.0590\t* log(m/z)$$\n",
    "$$e^{log(Intensity)} = e^{16.0896 + 0.0590\t* log(m/z)}$$\n",
    "$$ Intensity= e^{16.0896 + 0.0590\t* log(m/z)}$$\n",
    "$$ Intensity= e^{16.0896} +e^{ 0.0590\t* log(m/z)}$$\n",
    "$$ Intensity= 9719065.2099 * m/z^{0.0590}$$"
   ]
  },
  {
   "cell_type": "code",
   "execution_count": null,
   "metadata": {},
   "outputs": [],
   "source": [
    "#Linearising the intercept\n",
    "exp=math.exp(params['Intercept'])"
   ]
  },
  {
   "cell_type": "code",
   "execution_count": null,
   "metadata": {},
   "outputs": [],
   "source": [
    "# Getting the predicted intensities by fitting the model parameters into the linear power law equation\n",
    "I_predicted = exp * data[['m/z']]**(params['coefficient'])\n",
    "data.insert(loc=2,value=I_predicted,column=\"I_predicted\")"
   ]
  },
  {
   "cell_type": "code",
   "execution_count": null,
   "metadata": {},
   "outputs": [],
   "source": [
    "# Intensity vs Predicted intensity plot\n",
    "plt.rcParams.update({\"font.size\":18,\"font.family\":\"serif\"})\n",
    "fig,ax=plt.subplots(figsize=(10,6))\n",
    "\n",
    "ax.scatter((data[[\"m/z\"]]),(data[[\"I\"]]),s=50,color=\"red\",label=\"Intensity\")\n",
    "ax.scatter((data[[\"m/z\"]]),(data[[\"I_predicted\"]]),lw=3,label=\"Intensity Predicted\",color=\"blue\")\n",
    "#ax.plot(data[['m/z']],data[[\"I_predicted\"]],r'g*',markersize=10)\n",
    "ax.legend(loc=1)\n",
    "#ax.grid(True)\n",
    "ax.set_title(\"                  Actual Intensity vs Predicted  \")\n",
    "ax.set_ylabel(\"Intensity\")\n",
    "ax.set_xlabel(\"m/z\")"
   ]
  },
  {
   "cell_type": "code",
   "execution_count": null,
   "metadata": {},
   "outputs": [],
   "source": [
    "# Intensity vs Predicted Intensity in log scale \n",
    "plt.rcParams.update({\"font.size\":18,\"font.family\":\"serif\"})\n",
    "fig,ax=plt.subplots(figsize=(10,6))\n",
    "\n",
    "ax.scatter(np.log(data[[\"m/z meas.\"]]),np.log(data[[\"I\"]]),s=50,color=\"red\",label=\"Intensity\")\n",
    "ax.scatter(np.log(data[[\"m/z meas.\"]]),np.log(data[[\"I_predicted\"]]),lw=3,label=\"Intensity Predicted\",color=\"blue\")\n",
    "#ax.plot(data[['m/z']],data[[\"I_predicted\"]],r'g*',markersize=10)\n",
    "ax.legend(loc=1)\n",
    "\n",
    "ax.set_title(\"Actual Intensity vs Predicted \")\n",
    "ax.set_ylabel(\"log(Intensity)\")\n",
    "ax.set_xlabel(\"log(m/z)\")"
   ]
  },
  {
   "cell_type": "code",
   "execution_count": null,
   "metadata": {},
   "outputs": [],
   "source": [
    "# predicted intensity plots \n",
    "plt.plot(data[\"m/z\"],data['I_predicted'],\"r.\")\n",
    "plt.xlabel(\"m/z\")\n",
    "plt.ylabel(\"Predicted intensity\")"
   ]
  },
  {
   "cell_type": "code",
   "execution_count": null,
   "metadata": {},
   "outputs": [],
   "source": [
    "# actual intensity plot\n",
    "fig,ax1=plt.subplots(figsize=(4,4))\n",
    "plt.xlabel(\"m/z\")\n",
    "plt.ylabel(\"Intensity\")\n",
    "plt.plot(data[\"m/z\"],data['I'],\"b.\")"
   ]
  },
  {
   "cell_type": "code",
   "execution_count": null,
   "metadata": {},
   "outputs": [],
   "source": [
    "fig,ax1=plt.subplots(figsize=(4,4))\n",
    "plt.xlabel(\"m/z\")\n",
    "plt.ylabel(\"Intensity\")\n",
    "plt.plot(data[\"m/z\"],data['I_predicted'],\"r.\")"
   ]
  },
  {
   "cell_type": "code",
   "execution_count": null,
   "metadata": {},
   "outputs": [],
   "source": [
    "# Actual intensity in log plot\n",
    "fig,ax2=plt.subplots(figsize=(4,4))\n",
    "plt.plot(np.log(data[\"m/z\"]),np.log(data['I']),\"b.\")\n",
    "plt.xlabel(\"log (m/z)\")\n",
    "plt.ylabel(\"log(Intensity)\")\n",
    "#ax2.ticklabel_format(style=\"plain\")\n",
    "#plt.xticks(rotation=45)\n",
    "#axe.xticks(rotation=45)\n",
    "plt.show()"
   ]
  },
  {
   "cell_type": "code",
   "execution_count": null,
   "metadata": {},
   "outputs": [],
   "source": [
    "# Predicted intensity in log plot\n",
    "fig,ax2=plt.subplots(figsize=(4,4))\n",
    "plt.plot(np.log(data[\"m/z\"]),np.log(data['I_predicted']),\"r.\")\n",
    "plt.xlabel(\"log (m/z)\")\n",
    "plt.ylabel(\"log( Predicted Intensity)\")\n",
    "#ax2.ticklabel_format(style=\"plain\")\n",
    "#plt.xticks(rotation=45)\n",
    "#axe.xticks(rotation=45)\n",
    "plt.show()\n"
   ]
  },
  {
   "cell_type": "markdown",
   "metadata": {},
   "source": [
    "## Part 2: Filtering tool for fitting power law between Intensity and Intensity frequency"
   ]
  },
  {
   "cell_type": "code",
   "execution_count": null,
   "metadata": {},
   "outputs": [],
   "source": [
    "import pandas as pd\n",
    "import seaborn as sns\n",
    "import numpy as np\n",
    "import matplotlib\n",
    "from matplotlib import pyplot as plt\n",
    "from statsmodels.formula.api import ols\n",
    "from pathlib import Path\n",
    "import math\n",
    "import os\n",
    "import sys\n",
    "import warnings\n",
    "\n"
   ]
  },
  {
   "cell_type": "code",
   "execution_count": null,
   "metadata": {},
   "outputs": [],
   "source": [
    "file_path=\"C://Users//Athira Shankar//Downloads//more_data//pos1981.xlsx\"\n",
    "sheet_name=\"Sheet1\"\n",
    "img_path=\"C:/Users/Athira Shankar/Downloads/\"\n"
   ]
  },
  {
   "cell_type": "code",
   "execution_count": null,
   "metadata": {},
   "outputs": [],
   "source": [
    "data= pd.read_excel(file_path,sheet_name=sheet_name)\n",
    "data=data[~(data[\"I\"]==0)]\n",
    "# run for Cocoa LCMS only\n",
    "#data.rename(columns={\"I\":\"I_\"},inplace=True)\n",
    "#data.rename(columns={\"Area\":\"I\"},inplace=True)\n",
    "input_data=data.sort_values(by=[\"I\"],ascending=True)\n",
    "interval=input(\"Please enter the interval width\")\n",
    "n=input(\"Please enter the number of filters \")"
   ]
  },
  {
   "cell_type": "code",
   "execution_count": null,
   "metadata": {},
   "outputs": [],
   "source": [
    "x_coeff=[]\n",
    "intercept=[]\n",
    "exp_intercept=[]\n",
    "rsquared=[]\n",
    "i=1\n",
    "while(i<=n):\n",
    "    num_class =int(interval)\n",
    "    range_interval =np.max(input_data[\"I\"]) - np.min(input_data[\"I\"])\n",
    "    if range_interval % num_class ==0: \n",
    "         num_class =num_class+1\n",
    "    width =math.ceil(range_interval /num_class)\n",
    "    low_class =np.arange(np.min(input_data[\"I\"]),np.max(input_data[\"I\"]),width)\n",
    "    upper_class = low_class + width \n",
    "    intensity=np.array(input_data[\"I\"])\n",
    "    class_pairs =list(zip(low_class,upper_class))\n",
    "    list_result =[]\n",
    "    for (low_bound, upper_bound) in class_pairs:\n",
    "        result =np.count_nonzero(intensity[(intensity>=low_bound) & (intensity<=upper_bound)])\n",
    "        list_result.append(result)\n",
    "    intervals=pd.DataFrame()\n",
    "    intervals[\"Intervals\"]=class_pairs\n",
    "    intervals[\"low_class intervals\"]=low_class\n",
    "    intervals[\"upper_class intervals\"]=upper_class\n",
    "    intervals[\"frequency\"]=list_result\n",
    "    intervals[\"Intervals\"]=intervals[\"Intervals\"].astype(\"str\").str.replace(\"(\",\"[\").str.replace(\")\",\"]\")\n",
    "    mean=np.mean(intervals[\"frequency\"])\n",
    "    intervals_x=intervals[intervals[\"frequency\"]>=mean]\n",
    "    intensity_filtered=input_data[(input_data[\"I\"] <=intervals_x['upper_class intervals'].iloc[len(intervals_x)-1] )]\n",
    "    data_log=pd.DataFrame()\n",
    "    data_log = np.log(intervals[[\"frequency\",\"low_class intervals\"]])\n",
    "    data_log.rename(columns={\"low_class intervals\":\"low_class_intervals\"},inplace=True)\n",
    "    np.seterr(divide = 'ignore')\n",
    "    data_log[\"frequency\"][np.isneginf(data_log[\"frequency\"])]=0\n",
    "    \n",
    "    model = ols('frequency ~ low_class_intervals',data=data_log).fit()\n",
    "    params=dict(model.params)\n",
    "    rsquared.append(model.rsquared)\n",
    "    x_coeff.append(params[\"low_class_intervals\"])\n",
    "    intercept.append(params[\"Intercept\"])\n",
    "    exp=math.exp(params[\"Intercept\"])\n",
    "    exp_intercept.append(exp)\n",
    "    frequency_predicted = exp * input_data[['I']]**(params[\"low_class_intervals\"])\n",
    "    intervals.insert(loc=2,value=frequency_predicted,column=\"frequency_predicted\")\n",
    "    intervals[\"frequency_predicted\"]=np.round(intervals[\"frequency_predicted\"])\n",
    "    \n",
    "    input_data=intensity_filtered\n",
    "    fig, (ax1, ax2) = plt.subplots(1, 2,figsize=(15,5))\n",
    "    fig.tight_layout(h_pad=2,w_pad=5)\n",
    "    plt.subplots_adjust(top=0.90)\n",
    "\n",
    "    fig.suptitle(\"Intensity vs frequency plots\")\n",
    "\n",
    "\n",
    "    ax1.scatter((intervals[[\"low_class intervals\"]]),(intervals[[\"frequency\"]]),color=\"red\",label=\"Intensity\")\n",
    "    ax1.plot((intervals[[\"low_class intervals\"]]),(intervals[[\"frequency\"]]),color=\"red\",label=\"Intensity\")\n",
    "    #axs[0, 0].set_title('Frequency vs Intensity')\n",
    "    ax1.set_xlabel('Intensity Filter level '+ str(i))\n",
    "    ax1.set_ylabel('Frequency Filter level '+ str(i))\n",
    "    ax2.scatter(np.log(intervals[[\"low_class intervals\"]]),np.log(intervals[[\"frequency\"]]),color=\"b\")\n",
    "    ax2.plot(np.log(intervals[[\"low_class intervals\"]]),np.log(intervals[[\"frequency\"]]),color=\"b\")\n",
    "    ax2.set_xlabel('Intensity (log) Filter level '+str(i))\n",
    "    ax2.set_ylabel(' Frequency(log) Filter level '+str(i))\n",
    "    plt.show()\n",
    "    \n",
    "    i=i+1\n",
    "\n",
    "\n",
    "    \n",
    "    \n"
   ]
  },
  {
   "cell_type": "code",
   "execution_count": null,
   "metadata": {},
   "outputs": [],
   "source": [
    "Filter_level=[\"Filter level 1\",\"Filter level 2\",\"Filter level 3\",\"Filter level 4\",\"Filter level 5\"]\n",
    "fig2 = plt.figure()\n",
    "plt.plot(Filter_level,exp_intercept)\n",
    "plt.suptitle(\"Intercept\")\n",
    "fig2 = plt.figure()\n",
    "plt.plot(Filter_level,x_coeff)\n",
    "plt.suptitle(\"Intensity coefficient\")\n",
    "fig2 = plt.figure()\n",
    "plt.plot(Filter_level,rsquared)\n",
    "\n",
    "plt.ylabel(\"Rsquared\")\n",
    "plt.suptitle(\"Rsquared plot Wine 1981 positive 30 intervals\")\n",
    "#fig2.savefig(image_path+\"Rsquared.png\")"
   ]
  },
  {
   "cell_type": "code",
   "execution_count": null,
   "metadata": {},
   "outputs": [],
   "source": [
    "print(\"Operation completed and the plots have been saved\")"
   ]
  }
 ],
 "metadata": {
  "kernelspec": {
   "display_name": "Python 3",
   "language": "python",
   "name": "python3"
  },
  "language_info": {
   "codemirror_mode": {
    "name": "ipython",
    "version": 3
   },
   "file_extension": ".py",
   "mimetype": "text/x-python",
   "name": "python",
   "nbconvert_exporter": "python",
   "pygments_lexer": "ipython3",
   "version": "3.8.5"
  }
 },
 "nbformat": 4,
 "nbformat_minor": 4
}
